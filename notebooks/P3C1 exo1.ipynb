{
  "cells": [
    {
      "cell_type": "markdown",
      "metadata": {
        "id": "qywj6OcH1f6D"
      },
      "source": [
        "![openclassrooms](https://s3.eu-west-1.amazonaws.com/course.oc-static.com/courses/6204541/1+HnqdJ-5ofxiPP9HIxdNdpw.jpeg)\n",
        "\n",
        "# Initiez-vous à Python pour l'analyse de données\n",
        "\n",
        "## Créez des tableaux pour stocker vos variables\n",
        "\n",
        "<br><br>\n",
        "\n",
        "**Une liste pour les gouverner tous**\n",
        "\n",
        "Déclarez une liste `couleurs` contenant 5 éléments : `rouge`, `jaune`, `orange`, `vert` et `bleu`."
      ]
    },
    {
      "cell_type": "code",
      "execution_count": 7,
      "metadata": {
        "id": "GBoYPZfD1f6T",
        "outputId": "0acd7551-c5fa-404c-a1b0-f4fe84f14a05",
        "colab": {
          "base_uri": "https://localhost:8080/"
        }
      },
      "outputs": [
        {
          "output_type": "stream",
          "name": "stdout",
          "text": [
            "vert\n"
          ]
        }
      ],
      "source": [
        "couleurs = ['rougee','jaune','orange','vert','bleu']\n",
        "\n",
        "print(couleurs[3])"
      ]
    },
    {
      "cell_type": "markdown",
      "metadata": {
        "id": "ekv72PLA1f6Y"
      },
      "source": [
        "Remplacez la couleur `vert` par `émeraude` :"
      ]
    },
    {
      "cell_type": "code",
      "execution_count": 13,
      "metadata": {
        "id": "3IEyHffv1f6a",
        "outputId": "de9602ce-f57e-4388-d7ce-c4ad5aa9c13e",
        "colab": {
          "base_uri": "https://localhost:8080/"
        }
      },
      "outputs": [
        {
          "output_type": "stream",
          "name": "stdout",
          "text": [
            "['rougee', 'jaune', 'orange', 'émeraude', 'bleu']\n"
          ]
        }
      ],
      "source": [
        "couleurs[3] = 'émeraude'\n",
        "print(couleurs)"
      ]
    },
    {
      "cell_type": "code",
      "source": [],
      "metadata": {
        "id": "4oAe_Zhl-oK1"
      },
      "execution_count": null,
      "outputs": []
    },
    {
      "cell_type": "markdown",
      "metadata": {
        "id": "UjEiQUtH1f6b"
      },
      "source": [
        "Affichez le contenu de la liste :"
      ]
    },
    {
      "cell_type": "code",
      "execution_count": 12,
      "metadata": {
        "id": "gJB7t-P61f6d",
        "outputId": "e3403a8e-7607-4740-a3ca-59e2258e7b5d",
        "colab": {
          "base_uri": "https://localhost:8080/"
        }
      },
      "outputs": [
        {
          "output_type": "stream",
          "name": "stdout",
          "text": [
            "rougee\n",
            "jaune\n",
            "orange\n",
            "émeraude\n",
            "bleu\n"
          ]
        }
      ],
      "source": [
        "for couleur in couleurs :\n",
        "    print(couleur)"
      ]
    },
    {
      "cell_type": "code",
      "source": [
        "liste = []\n",
        "liste.insert(1, 'jaune')\n",
        "#print(liste)\n",
        "liste.insert(0, 'vert')\n",
        "#print(liste)\n",
        "liste.extend([6, 8, 9])\n",
        "#print(liste)\n",
        "del liste [2:4]\n",
        "#print(liste)\n",
        "for liste in liste:\n",
        "  print(liste)"
      ],
      "metadata": {
        "id": "E0cvGDMo-qYe",
        "outputId": "341e505f-f05e-4a83-df4e-35d1a294f9d3",
        "colab": {
          "base_uri": "https://localhost:8080/"
        }
      },
      "execution_count": 35,
      "outputs": [
        {
          "output_type": "stream",
          "name": "stdout",
          "text": [
            "vert\n",
            "jaune\n",
            "9\n"
          ]
        }
      ]
    },
    {
      "cell_type": "code",
      "source": [
        "H2SAS = {'plant 1':23, 'plant 2': 28, 'plant 3':40, 'plant 4 ':19, 'plant 5':30}\n",
        "print(H2SAS)\n",
        "#for H2SAS in H2SAS:\n",
        "  #print(H2SAS)\n",
        "H2SAS['plant 1'] +=12\n",
        "#print(H2SAS)\n",
        "H2SAS.pop('plant 2')\n",
        "len(H2SAS)"
      ],
      "metadata": {
        "id": "xiTVdvtwHbGx",
        "outputId": "4f518cd4-4cc1-4416-d91d-248b11a26d80",
        "colab": {
          "base_uri": "https://localhost:8080/"
        }
      },
      "execution_count": 53,
      "outputs": [
        {
          "output_type": "stream",
          "name": "stdout",
          "text": [
            "{'plant 1': 23, 'plant 2': 28, 'plant 3': 40, 'plant 4 ': 19, 'plant 5': 30}\n"
          ]
        },
        {
          "output_type": "execute_result",
          "data": {
            "text/plain": [
              "4"
            ]
          },
          "metadata": {},
          "execution_count": 53
        }
      ]
    },
    {
      "cell_type": "code",
      "source": [
        "Nom= input('quel est votre nom, Cher(e) inconnu(e)')\n",
        "\n",
        "if len(Nom) > 0:\n",
        "  print(\"hello\", Nom, \"!\")\n",
        "else:\n",
        "  print(\"hello world !\")"
      ],
      "metadata": {
        "id": "BVcwQ0fcOv_e"
      },
      "execution_count": null,
      "outputs": []
    },
    {
      "cell_type": "code",
      "source": [
        "\n",
        "2>=3"
      ],
      "metadata": {
        "id": "Qg6SZTq6a5oO",
        "outputId": "f813e4c2-bc03-45c3-8063-221d91df3f28",
        "colab": {
          "base_uri": "https://localhost:8080/"
        }
      },
      "execution_count": 13,
      "outputs": [
        {
          "output_type": "execute_result",
          "data": {
            "text/plain": [
              "False"
            ]
          },
          "metadata": {},
          "execution_count": 13
        }
      ]
    }
  ],
  "metadata": {
    "kernelspec": {
      "display_name": "Python 3",
      "language": "python",
      "name": "python3"
    },
    "language_info": {
      "codemirror_mode": {
        "name": "ipython",
        "version": 3
      },
      "file_extension": ".py",
      "mimetype": "text/x-python",
      "name": "python",
      "nbconvert_exporter": "python",
      "pygments_lexer": "ipython3",
      "version": "3.8.5"
    },
    "colab": {
      "provenance": []
    }
  },
  "nbformat": 4,
  "nbformat_minor": 0
}